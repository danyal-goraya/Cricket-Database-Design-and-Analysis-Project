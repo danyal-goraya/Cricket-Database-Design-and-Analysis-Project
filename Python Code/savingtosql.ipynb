{
 "cells": [
  {
   "cell_type": "code",
   "execution_count": null,
   "id": "9dd7954b",
   "metadata": {},
   "outputs": [
    {
     "data": {
      "text/html": [
       "<div>\n",
       "<style scoped>\n",
       "    .dataframe tbody tr th:only-of-type {\n",
       "        vertical-align: middle;\n",
       "    }\n",
       "\n",
       "    .dataframe tbody tr th {\n",
       "        vertical-align: top;\n",
       "    }\n",
       "\n",
       "    .dataframe thead th {\n",
       "        text-align: right;\n",
       "    }\n",
       "</style>\n",
       "<table border=\"1\" class=\"dataframe\">\n",
       "  <thead>\n",
       "    <tr style=\"text-align: right;\">\n",
       "      <th></th>\n",
       "      <th>Player_Id</th>\n",
       "      <th>Player_Name</th>\n",
       "      <th>Batting_Style</th>\n",
       "      <th>Bowling_Style</th>\n",
       "      <th>Country_Id</th>\n",
       "    </tr>\n",
       "  </thead>\n",
       "  <tbody>\n",
       "    <tr>\n",
       "      <th>0</th>\n",
       "      <td>93957</td>\n",
       "      <td>Avinash Pai</td>\n",
       "      <td>right-hand bat</td>\n",
       "      <td>right-arm offbreak</td>\n",
       "      <td>18</td>\n",
       "    </tr>\n",
       "    <tr>\n",
       "      <th>1</th>\n",
       "      <td>2182</td>\n",
       "      <td>Sherwin Campbell</td>\n",
       "      <td>right-hand bat</td>\n",
       "      <td>right-arm medium</td>\n",
       "      <td>4</td>\n",
       "    </tr>\n",
       "    <tr>\n",
       "      <th>2</th>\n",
       "      <td>48391</td>\n",
       "      <td>Tamim Iqbal</td>\n",
       "      <td>left-hand bat</td>\n",
       "      <td>NaN</td>\n",
       "      <td>25</td>\n",
       "    </tr>\n",
       "    <tr>\n",
       "      <th>3</th>\n",
       "      <td>2198</td>\n",
       "      <td>Javed Omar</td>\n",
       "      <td>right-hand bat</td>\n",
       "      <td>legbreak</td>\n",
       "      <td>25</td>\n",
       "    </tr>\n",
       "    <tr>\n",
       "      <th>4</th>\n",
       "      <td>52290</td>\n",
       "      <td>Jason Roy</td>\n",
       "      <td>right-hand bat</td>\n",
       "      <td>NaN</td>\n",
       "      <td>1</td>\n",
       "    </tr>\n",
       "  </tbody>\n",
       "</table>\n",
       "</div>"
      ],
      "text/plain": [
       "   Player_Id       Player_Name   Batting_Style       Bowling_Style  Country_Id\n",
       "0      93957       Avinash Pai  right-hand bat  right-arm offbreak          18\n",
       "1       2182  Sherwin Campbell  right-hand bat    right-arm medium           4\n",
       "2      48391       Tamim Iqbal   left-hand bat                 NaN          25\n",
       "3       2198        Javed Omar  right-hand bat            legbreak          25\n",
       "4      52290         Jason Roy  right-hand bat                 NaN           1"
      ]
     },
     "execution_count": 2,
     "metadata": {},
     "output_type": "execute_result"
    }
   ],
   "source": [
    "import pandas as pd \n",
    "players_info = pd.read_csv(\"D:\\\\Projects\\\\Stats Project\\\\players_info.csv\",index_col=0)\n",
    "players_info.head(5)\n",
    "\n"
   ]
  },
  {
   "cell_type": "code",
   "execution_count": 1,
   "id": "81a8310c",
   "metadata": {},
   "outputs": [
    {
     "name": "stdout",
     "output_type": "stream",
     "text": [
      "Data successfully exported to SQL Server!\n"
     ]
    }
   ],
   "source": [
    "import pandas as pd\n",
    "from sqlalchemy import create_engine\n",
    "\n",
    "df = pd.read_csv(\"D:\\\\Projects\\\\Stats Project\\\\players_info.csv\",index_col=0)\n",
    "bowling_card= pd.read_csv(\"D:\\\\Projects\\\\Stats Project\\\\bowling_card.csv\",index_col=0)\n",
    "matches_stats = pd.read_csv(\"D:\\\\Projects\\\\Stats Project\\\\matches_data.csv\",index_col=0)\n",
    "partnership = pd.read_csv(\"D:\\\\Projects\\\\Stats Project\\\\partnership_data.csv\",index_col=0)\n",
    "\n",
    "\n",
    "server = \"DESKTOP-DFD5PNH\"\n",
    "database = \"Cricket_Project\"\n",
    "driver = \"ODBC Driver 17 for SQL Server\"\n",
    "\n",
    "connection_string = f\"mssql+pyodbc://@{server}/{database}?driver={driver}\"\n",
    "engine = create_engine(connection_string)\n",
    "\n",
    "\n",
    "df.to_sql('players_info', con=engine, if_exists='replace', index=False)\n",
    "bowling_card.to_sql('bowling_card', con=engine, if_exists='replace', index=False)\n",
    "matches_stats.to_sql('matches_data', con=engine, if_exists='replace', index=False)\n",
    "partnership.to_sql('partnership_data', con=engine, if_exists='replace', index=False)\n",
    "\n",
    "print(\"Data successfully exported to SQL Server!\")"
   ]
  }
 ],
 "metadata": {
  "kernelspec": {
   "display_name": "base",
   "language": "python",
   "name": "python3"
  },
  "language_info": {
   "codemirror_mode": {
    "name": "ipython",
    "version": 3
   },
   "file_extension": ".py",
   "mimetype": "text/x-python",
   "name": "python",
   "nbconvert_exporter": "python",
   "pygments_lexer": "ipython3",
   "version": "3.13.5"
  }
 },
 "nbformat": 4,
 "nbformat_minor": 5
}
